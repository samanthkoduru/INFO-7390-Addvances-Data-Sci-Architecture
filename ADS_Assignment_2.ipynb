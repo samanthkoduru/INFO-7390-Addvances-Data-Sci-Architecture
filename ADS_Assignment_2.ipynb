{
  "nbformat": 4,
  "nbformat_minor": 0,
  "metadata": {
    "colab": {
      "provenance": []
    },
    "kernelspec": {
      "name": "python3",
      "display_name": "Python 3"
    },
    "language_info": {
      "name": "python"
    }
  },
  "cells": [
    {
      "cell_type": "code",
      "execution_count": null,
      "metadata": {
        "id": "hBTsEhAD_28_"
      },
      "outputs": [],
      "source": [
        "import numpy as np\n",
        "import pandas as pd\n",
        "import matplotlib.pyplot as plt\n",
        "\n",
        "from sklearn.model_selection import train_test_split\n",
        "from sklearn.preprocessing import StandardScaler"
      ]
    },
    {
      "cell_type": "code",
      "source": [
        "data = pd.read_csv('/content/drive/MyDrive/Assignment_2_SoccerPlayers.csv', encoding = 'unicode_escape')\n",
        "data.head(5)"
      ],
      "metadata": {
        "colab": {
          "base_uri": "https://localhost:8080/",
          "height": 206
        },
        "id": "OXL_pUc9_7Iz",
        "outputId": "d954540b-f2cb-4674-b58f-723dc533cb52"
      },
      "execution_count": null,
      "outputs": [
        {
          "output_type": "execute_result",
          "data": {
            "text/plain": [
              "       ID               Name  Age Nationality  Overall  Potential  \\\n",
              "0  158023           L. Messi   31   Argentina       94         94   \n",
              "1   20801  Cristiano Ronaldo   33    Portugal       94         94   \n",
              "2  190871          Neymar Jr   26      Brazil       92         93   \n",
              "3  193080             De Gea   27       Spain       91         93   \n",
              "4  192985       K. De Bruyne   27     Belgium       91         92   \n",
              "\n",
              "                  Club  Value_in_M  Wage_in_K  Jersey_Number  \\\n",
              "0         FC Barcelona       110.5        565             10   \n",
              "1             Juventus        77.0        405              7   \n",
              "2  Paris Saint-Germain       118.5        290             10   \n",
              "3    Manchester United        72.0        260              1   \n",
              "4      Manchester City       102.0        355              7   \n",
              "\n",
              "   Height_in_Inches  Weight_in_lbs  Reactions  Balance  Strength  \n",
              "0                67            159         95       95        59  \n",
              "1                74            183         96       70        79  \n",
              "2                69            150         94       84        49  \n",
              "3                76            168         90       43        64  \n",
              "4                71            154         91       77        75  "
            ],
            "text/html": [
              "\n",
              "  <div id=\"df-5d20a810-43ce-42d9-9b23-15acc49873c3\">\n",
              "    <div class=\"colab-df-container\">\n",
              "      <div>\n",
              "<style scoped>\n",
              "    .dataframe tbody tr th:only-of-type {\n",
              "        vertical-align: middle;\n",
              "    }\n",
              "\n",
              "    .dataframe tbody tr th {\n",
              "        vertical-align: top;\n",
              "    }\n",
              "\n",
              "    .dataframe thead th {\n",
              "        text-align: right;\n",
              "    }\n",
              "</style>\n",
              "<table border=\"1\" class=\"dataframe\">\n",
              "  <thead>\n",
              "    <tr style=\"text-align: right;\">\n",
              "      <th></th>\n",
              "      <th>ID</th>\n",
              "      <th>Name</th>\n",
              "      <th>Age</th>\n",
              "      <th>Nationality</th>\n",
              "      <th>Overall</th>\n",
              "      <th>Potential</th>\n",
              "      <th>Club</th>\n",
              "      <th>Value_in_M</th>\n",
              "      <th>Wage_in_K</th>\n",
              "      <th>Jersey_Number</th>\n",
              "      <th>Height_in_Inches</th>\n",
              "      <th>Weight_in_lbs</th>\n",
              "      <th>Reactions</th>\n",
              "      <th>Balance</th>\n",
              "      <th>Strength</th>\n",
              "    </tr>\n",
              "  </thead>\n",
              "  <tbody>\n",
              "    <tr>\n",
              "      <th>0</th>\n",
              "      <td>158023</td>\n",
              "      <td>L. Messi</td>\n",
              "      <td>31</td>\n",
              "      <td>Argentina</td>\n",
              "      <td>94</td>\n",
              "      <td>94</td>\n",
              "      <td>FC Barcelona</td>\n",
              "      <td>110.5</td>\n",
              "      <td>565</td>\n",
              "      <td>10</td>\n",
              "      <td>67</td>\n",
              "      <td>159</td>\n",
              "      <td>95</td>\n",
              "      <td>95</td>\n",
              "      <td>59</td>\n",
              "    </tr>\n",
              "    <tr>\n",
              "      <th>1</th>\n",
              "      <td>20801</td>\n",
              "      <td>Cristiano Ronaldo</td>\n",
              "      <td>33</td>\n",
              "      <td>Portugal</td>\n",
              "      <td>94</td>\n",
              "      <td>94</td>\n",
              "      <td>Juventus</td>\n",
              "      <td>77.0</td>\n",
              "      <td>405</td>\n",
              "      <td>7</td>\n",
              "      <td>74</td>\n",
              "      <td>183</td>\n",
              "      <td>96</td>\n",
              "      <td>70</td>\n",
              "      <td>79</td>\n",
              "    </tr>\n",
              "    <tr>\n",
              "      <th>2</th>\n",
              "      <td>190871</td>\n",
              "      <td>Neymar Jr</td>\n",
              "      <td>26</td>\n",
              "      <td>Brazil</td>\n",
              "      <td>92</td>\n",
              "      <td>93</td>\n",
              "      <td>Paris Saint-Germain</td>\n",
              "      <td>118.5</td>\n",
              "      <td>290</td>\n",
              "      <td>10</td>\n",
              "      <td>69</td>\n",
              "      <td>150</td>\n",
              "      <td>94</td>\n",
              "      <td>84</td>\n",
              "      <td>49</td>\n",
              "    </tr>\n",
              "    <tr>\n",
              "      <th>3</th>\n",
              "      <td>193080</td>\n",
              "      <td>De Gea</td>\n",
              "      <td>27</td>\n",
              "      <td>Spain</td>\n",
              "      <td>91</td>\n",
              "      <td>93</td>\n",
              "      <td>Manchester United</td>\n",
              "      <td>72.0</td>\n",
              "      <td>260</td>\n",
              "      <td>1</td>\n",
              "      <td>76</td>\n",
              "      <td>168</td>\n",
              "      <td>90</td>\n",
              "      <td>43</td>\n",
              "      <td>64</td>\n",
              "    </tr>\n",
              "    <tr>\n",
              "      <th>4</th>\n",
              "      <td>192985</td>\n",
              "      <td>K. De Bruyne</td>\n",
              "      <td>27</td>\n",
              "      <td>Belgium</td>\n",
              "      <td>91</td>\n",
              "      <td>92</td>\n",
              "      <td>Manchester City</td>\n",
              "      <td>102.0</td>\n",
              "      <td>355</td>\n",
              "      <td>7</td>\n",
              "      <td>71</td>\n",
              "      <td>154</td>\n",
              "      <td>91</td>\n",
              "      <td>77</td>\n",
              "      <td>75</td>\n",
              "    </tr>\n",
              "  </tbody>\n",
              "</table>\n",
              "</div>\n",
              "      <button class=\"colab-df-convert\" onclick=\"convertToInteractive('df-5d20a810-43ce-42d9-9b23-15acc49873c3')\"\n",
              "              title=\"Convert this dataframe to an interactive table.\"\n",
              "              style=\"display:none;\">\n",
              "        \n",
              "  <svg xmlns=\"http://www.w3.org/2000/svg\" height=\"24px\"viewBox=\"0 0 24 24\"\n",
              "       width=\"24px\">\n",
              "    <path d=\"M0 0h24v24H0V0z\" fill=\"none\"/>\n",
              "    <path d=\"M18.56 5.44l.94 2.06.94-2.06 2.06-.94-2.06-.94-.94-2.06-.94 2.06-2.06.94zm-11 1L8.5 8.5l.94-2.06 2.06-.94-2.06-.94L8.5 2.5l-.94 2.06-2.06.94zm10 10l.94 2.06.94-2.06 2.06-.94-2.06-.94-.94-2.06-.94 2.06-2.06.94z\"/><path d=\"M17.41 7.96l-1.37-1.37c-.4-.4-.92-.59-1.43-.59-.52 0-1.04.2-1.43.59L10.3 9.45l-7.72 7.72c-.78.78-.78 2.05 0 2.83L4 21.41c.39.39.9.59 1.41.59.51 0 1.02-.2 1.41-.59l7.78-7.78 2.81-2.81c.8-.78.8-2.07 0-2.86zM5.41 20L4 18.59l7.72-7.72 1.47 1.35L5.41 20z\"/>\n",
              "  </svg>\n",
              "      </button>\n",
              "      \n",
              "  <style>\n",
              "    .colab-df-container {\n",
              "      display:flex;\n",
              "      flex-wrap:wrap;\n",
              "      gap: 12px;\n",
              "    }\n",
              "\n",
              "    .colab-df-convert {\n",
              "      background-color: #E8F0FE;\n",
              "      border: none;\n",
              "      border-radius: 50%;\n",
              "      cursor: pointer;\n",
              "      display: none;\n",
              "      fill: #1967D2;\n",
              "      height: 32px;\n",
              "      padding: 0 0 0 0;\n",
              "      width: 32px;\n",
              "    }\n",
              "\n",
              "    .colab-df-convert:hover {\n",
              "      background-color: #E2EBFA;\n",
              "      box-shadow: 0px 1px 2px rgba(60, 64, 67, 0.3), 0px 1px 3px 1px rgba(60, 64, 67, 0.15);\n",
              "      fill: #174EA6;\n",
              "    }\n",
              "\n",
              "    [theme=dark] .colab-df-convert {\n",
              "      background-color: #3B4455;\n",
              "      fill: #D2E3FC;\n",
              "    }\n",
              "\n",
              "    [theme=dark] .colab-df-convert:hover {\n",
              "      background-color: #434B5C;\n",
              "      box-shadow: 0px 1px 3px 1px rgba(0, 0, 0, 0.15);\n",
              "      filter: drop-shadow(0px 1px 2px rgba(0, 0, 0, 0.3));\n",
              "      fill: #FFFFFF;\n",
              "    }\n",
              "  </style>\n",
              "\n",
              "      <script>\n",
              "        const buttonEl =\n",
              "          document.querySelector('#df-5d20a810-43ce-42d9-9b23-15acc49873c3 button.colab-df-convert');\n",
              "        buttonEl.style.display =\n",
              "          google.colab.kernel.accessAllowed ? 'block' : 'none';\n",
              "\n",
              "        async function convertToInteractive(key) {\n",
              "          const element = document.querySelector('#df-5d20a810-43ce-42d9-9b23-15acc49873c3');\n",
              "          const dataTable =\n",
              "            await google.colab.kernel.invokeFunction('convertToInteractive',\n",
              "                                                     [key], {});\n",
              "          if (!dataTable) return;\n",
              "\n",
              "          const docLinkHtml = 'Like what you see? Visit the ' +\n",
              "            '<a target=\"_blank\" href=https://colab.research.google.com/notebooks/data_table.ipynb>data table notebook</a>'\n",
              "            + ' to learn more about interactive tables.';\n",
              "          element.innerHTML = '';\n",
              "          dataTable['output_type'] = 'display_data';\n",
              "          await google.colab.output.renderOutput(dataTable, element);\n",
              "          const docLink = document.createElement('div');\n",
              "          docLink.innerHTML = docLinkHtml;\n",
              "          element.appendChild(docLink);\n",
              "        }\n",
              "      </script>\n",
              "    </div>\n",
              "  </div>\n",
              "  "
            ]
          },
          "metadata": {},
          "execution_count": 257
        }
      ]
    },
    {
      "cell_type": "code",
      "source": [
        "df = data[['Reactions','Balance','Strength','Value_in_M']]\n"
      ],
      "metadata": {
        "id": "Gzak6AIbKC9T"
      },
      "execution_count": null,
      "outputs": []
    },
    {
      "cell_type": "code",
      "source": [
        "from sklearn.preprocessing import MinMaxScaler\n",
        "# perform a robust scaler transform of the dataset\n",
        "trans = MinMaxScaler()\n",
        "df_transformed = pd.DataFrame(trans.fit_transform(df),columns = ['Reactions','Balance','Strength','Value_in_M'])\n"
      ],
      "metadata": {
        "id": "5Imiyg-qAdcQ"
      },
      "execution_count": null,
      "outputs": []
    },
    {
      "cell_type": "code",
      "source": [
        "df_transformed"
      ],
      "metadata": {
        "colab": {
          "base_uri": "https://localhost:8080/",
          "height": 423
        },
        "id": "yT1LmBoiKeMA",
        "outputId": "0d9cf518-7aef-4205-b7ad-df5307254eb5"
      },
      "execution_count": null,
      "outputs": [
        {
          "output_type": "execute_result",
          "data": {
            "text/plain": [
              "     Reactions   Balance  Strength  Value_in_M\n",
              "0     0.966667  0.985915  0.416667    0.932489\n",
              "1     1.000000  0.633803  0.750000    0.649789\n",
              "2     0.933333  0.830986  0.250000    1.000000\n",
              "3     0.800000  0.253521  0.500000    0.607595\n",
              "4     0.833333  0.732394  0.683333    0.860759\n",
              "..         ...       ...       ...         ...\n",
              "495   0.366667  0.239437  0.516667    0.105485\n",
              "496   0.266667  0.760563  0.400000    0.147679\n",
              "497   0.433333  0.619718  0.366667    0.130802\n",
              "498   0.400000  0.845070  0.316667    0.126582\n",
              "499   0.500000  0.478873  0.833333    0.135021\n",
              "\n",
              "[500 rows x 4 columns]"
            ],
            "text/html": [
              "\n",
              "  <div id=\"df-82349bbd-48c7-4a55-8ce0-3ee8253ba43d\">\n",
              "    <div class=\"colab-df-container\">\n",
              "      <div>\n",
              "<style scoped>\n",
              "    .dataframe tbody tr th:only-of-type {\n",
              "        vertical-align: middle;\n",
              "    }\n",
              "\n",
              "    .dataframe tbody tr th {\n",
              "        vertical-align: top;\n",
              "    }\n",
              "\n",
              "    .dataframe thead th {\n",
              "        text-align: right;\n",
              "    }\n",
              "</style>\n",
              "<table border=\"1\" class=\"dataframe\">\n",
              "  <thead>\n",
              "    <tr style=\"text-align: right;\">\n",
              "      <th></th>\n",
              "      <th>Reactions</th>\n",
              "      <th>Balance</th>\n",
              "      <th>Strength</th>\n",
              "      <th>Value_in_M</th>\n",
              "    </tr>\n",
              "  </thead>\n",
              "  <tbody>\n",
              "    <tr>\n",
              "      <th>0</th>\n",
              "      <td>0.966667</td>\n",
              "      <td>0.985915</td>\n",
              "      <td>0.416667</td>\n",
              "      <td>0.932489</td>\n",
              "    </tr>\n",
              "    <tr>\n",
              "      <th>1</th>\n",
              "      <td>1.000000</td>\n",
              "      <td>0.633803</td>\n",
              "      <td>0.750000</td>\n",
              "      <td>0.649789</td>\n",
              "    </tr>\n",
              "    <tr>\n",
              "      <th>2</th>\n",
              "      <td>0.933333</td>\n",
              "      <td>0.830986</td>\n",
              "      <td>0.250000</td>\n",
              "      <td>1.000000</td>\n",
              "    </tr>\n",
              "    <tr>\n",
              "      <th>3</th>\n",
              "      <td>0.800000</td>\n",
              "      <td>0.253521</td>\n",
              "      <td>0.500000</td>\n",
              "      <td>0.607595</td>\n",
              "    </tr>\n",
              "    <tr>\n",
              "      <th>4</th>\n",
              "      <td>0.833333</td>\n",
              "      <td>0.732394</td>\n",
              "      <td>0.683333</td>\n",
              "      <td>0.860759</td>\n",
              "    </tr>\n",
              "    <tr>\n",
              "      <th>...</th>\n",
              "      <td>...</td>\n",
              "      <td>...</td>\n",
              "      <td>...</td>\n",
              "      <td>...</td>\n",
              "    </tr>\n",
              "    <tr>\n",
              "      <th>495</th>\n",
              "      <td>0.366667</td>\n",
              "      <td>0.239437</td>\n",
              "      <td>0.516667</td>\n",
              "      <td>0.105485</td>\n",
              "    </tr>\n",
              "    <tr>\n",
              "      <th>496</th>\n",
              "      <td>0.266667</td>\n",
              "      <td>0.760563</td>\n",
              "      <td>0.400000</td>\n",
              "      <td>0.147679</td>\n",
              "    </tr>\n",
              "    <tr>\n",
              "      <th>497</th>\n",
              "      <td>0.433333</td>\n",
              "      <td>0.619718</td>\n",
              "      <td>0.366667</td>\n",
              "      <td>0.130802</td>\n",
              "    </tr>\n",
              "    <tr>\n",
              "      <th>498</th>\n",
              "      <td>0.400000</td>\n",
              "      <td>0.845070</td>\n",
              "      <td>0.316667</td>\n",
              "      <td>0.126582</td>\n",
              "    </tr>\n",
              "    <tr>\n",
              "      <th>499</th>\n",
              "      <td>0.500000</td>\n",
              "      <td>0.478873</td>\n",
              "      <td>0.833333</td>\n",
              "      <td>0.135021</td>\n",
              "    </tr>\n",
              "  </tbody>\n",
              "</table>\n",
              "<p>500 rows × 4 columns</p>\n",
              "</div>\n",
              "      <button class=\"colab-df-convert\" onclick=\"convertToInteractive('df-82349bbd-48c7-4a55-8ce0-3ee8253ba43d')\"\n",
              "              title=\"Convert this dataframe to an interactive table.\"\n",
              "              style=\"display:none;\">\n",
              "        \n",
              "  <svg xmlns=\"http://www.w3.org/2000/svg\" height=\"24px\"viewBox=\"0 0 24 24\"\n",
              "       width=\"24px\">\n",
              "    <path d=\"M0 0h24v24H0V0z\" fill=\"none\"/>\n",
              "    <path d=\"M18.56 5.44l.94 2.06.94-2.06 2.06-.94-2.06-.94-.94-2.06-.94 2.06-2.06.94zm-11 1L8.5 8.5l.94-2.06 2.06-.94-2.06-.94L8.5 2.5l-.94 2.06-2.06.94zm10 10l.94 2.06.94-2.06 2.06-.94-2.06-.94-.94-2.06-.94 2.06-2.06.94z\"/><path d=\"M17.41 7.96l-1.37-1.37c-.4-.4-.92-.59-1.43-.59-.52 0-1.04.2-1.43.59L10.3 9.45l-7.72 7.72c-.78.78-.78 2.05 0 2.83L4 21.41c.39.39.9.59 1.41.59.51 0 1.02-.2 1.41-.59l7.78-7.78 2.81-2.81c.8-.78.8-2.07 0-2.86zM5.41 20L4 18.59l7.72-7.72 1.47 1.35L5.41 20z\"/>\n",
              "  </svg>\n",
              "      </button>\n",
              "      \n",
              "  <style>\n",
              "    .colab-df-container {\n",
              "      display:flex;\n",
              "      flex-wrap:wrap;\n",
              "      gap: 12px;\n",
              "    }\n",
              "\n",
              "    .colab-df-convert {\n",
              "      background-color: #E8F0FE;\n",
              "      border: none;\n",
              "      border-radius: 50%;\n",
              "      cursor: pointer;\n",
              "      display: none;\n",
              "      fill: #1967D2;\n",
              "      height: 32px;\n",
              "      padding: 0 0 0 0;\n",
              "      width: 32px;\n",
              "    }\n",
              "\n",
              "    .colab-df-convert:hover {\n",
              "      background-color: #E2EBFA;\n",
              "      box-shadow: 0px 1px 2px rgba(60, 64, 67, 0.3), 0px 1px 3px 1px rgba(60, 64, 67, 0.15);\n",
              "      fill: #174EA6;\n",
              "    }\n",
              "\n",
              "    [theme=dark] .colab-df-convert {\n",
              "      background-color: #3B4455;\n",
              "      fill: #D2E3FC;\n",
              "    }\n",
              "\n",
              "    [theme=dark] .colab-df-convert:hover {\n",
              "      background-color: #434B5C;\n",
              "      box-shadow: 0px 1px 3px 1px rgba(0, 0, 0, 0.15);\n",
              "      filter: drop-shadow(0px 1px 2px rgba(0, 0, 0, 0.3));\n",
              "      fill: #FFFFFF;\n",
              "    }\n",
              "  </style>\n",
              "\n",
              "      <script>\n",
              "        const buttonEl =\n",
              "          document.querySelector('#df-82349bbd-48c7-4a55-8ce0-3ee8253ba43d button.colab-df-convert');\n",
              "        buttonEl.style.display =\n",
              "          google.colab.kernel.accessAllowed ? 'block' : 'none';\n",
              "\n",
              "        async function convertToInteractive(key) {\n",
              "          const element = document.querySelector('#df-82349bbd-48c7-4a55-8ce0-3ee8253ba43d');\n",
              "          const dataTable =\n",
              "            await google.colab.kernel.invokeFunction('convertToInteractive',\n",
              "                                                     [key], {});\n",
              "          if (!dataTable) return;\n",
              "\n",
              "          const docLinkHtml = 'Like what you see? Visit the ' +\n",
              "            '<a target=\"_blank\" href=https://colab.research.google.com/notebooks/data_table.ipynb>data table notebook</a>'\n",
              "            + ' to learn more about interactive tables.';\n",
              "          element.innerHTML = '';\n",
              "          dataTable['output_type'] = 'display_data';\n",
              "          await google.colab.output.renderOutput(dataTable, element);\n",
              "          const docLink = document.createElement('div');\n",
              "          docLink.innerHTML = docLinkHtml;\n",
              "          element.appendChild(docLink);\n",
              "        }\n",
              "      </script>\n",
              "    </div>\n",
              "  </div>\n",
              "  "
            ]
          },
          "metadata": {},
          "execution_count": 260
        }
      ]
    },
    {
      "cell_type": "code",
      "source": [
        "X = df_transformed.drop('Value_in_M',axis = 1)\n",
        "y = df_transformed['Value_in_M']\n",
        "\n",
        "\n",
        "X_train, X_test, y_train, y_test = train_test_split(X, y, test_size=0.2, random_state=20)"
      ],
      "metadata": {
        "id": "BA1Z3A7tLPFD"
      },
      "execution_count": null,
      "outputs": []
    },
    {
      "cell_type": "code",
      "source": [
        "type(y)"
      ],
      "metadata": {
        "colab": {
          "base_uri": "https://localhost:8080/"
        },
        "id": "3x15mRVVYi0Z",
        "outputId": "60d8b01f-6f12-42fb-9328-7b61d6576293"
      },
      "execution_count": null,
      "outputs": [
        {
          "output_type": "execute_result",
          "data": {
            "text/plain": [
              "pandas.core.series.Series"
            ]
          },
          "metadata": {},
          "execution_count": 262
        }
      ]
    },
    {
      "cell_type": "markdown",
      "source": [
        "As a thumb rule, weight matrix has following dimensions :\n",
        "\n",
        "The number of rows must equal the number of neurons in the previous layer.\n",
        "The number of columns must match the number of neurons in the next layer.\n",
        "\n",
        "For the problem statement, weight matrix shape is (3,1)"
      ],
      "metadata": {
        "id": "xgAhzNLThlc1"
      }
    },
    {
      "cell_type": "code",
      "source": [
        "def loss_function(weights,X,y):\n",
        "  k = float(len(y))\n",
        "\n",
        "  y_pred = X.dot(weights)\n",
        "  loss = (1/(2*k)) * np.sum(np.square(y_pred-y))\n",
        "  return loss"
      ],
      "metadata": {
        "id": "vn2IT8ZUhPe2"
      },
      "execution_count": null,
      "outputs": []
    },
    {
      "cell_type": "code",
      "source": [
        "def gradient_descent(X,y,weights,lr=0.05,iterations=400):\n",
        "    k = float(len(y))\n",
        "    cost_history = np.zeros(iterations)\n",
        "    weights_history = np.zeros((iterations,3))\n",
        "    for i in range(iterations):\n",
        "        y_pred = np.dot(X,weights)\n",
        "        weights = weights -(1/k)*lr*(X.T.dot((y_pred - y)))\n",
        "        weights_history[i,:] =weights.T\n",
        "        cost_history[i]  = loss_function(weights,X,y)\n",
        "    return weights, cost_history, weights_history\n",
        "        "
      ],
      "metadata": {
        "id": "0lDzRKkMidMb"
      },
      "execution_count": null,
      "outputs": []
    },
    {
      "cell_type": "code",
      "source": [
        "lr =0.01\n",
        "n_iter = 400\n",
        "\n",
        "#converting weights into a 1-D matrix\n",
        "weights = np.random.randn(3,1).squeeze()\n",
        "\n",
        "weights,cost_history,weights_history = gradient_descent(X_train,y_train,weights,lr,n_iter)\n",
        "\n",
        "fig,ax = plt.subplots(figsize=(10,8))\n",
        "plt.xlabel('Epochs')\n",
        "plt.ylabel('MSE')\n",
        "\n",
        "#taking plot for 400 iterations\n",
        "_=ax.plot(range(400),cost_history[:400])"
      ],
      "metadata": {
        "id": "5LvwQiedjJqG",
        "colab": {
          "base_uri": "https://localhost:8080/",
          "height": 497
        },
        "outputId": "5a3c3368-4c70-4281-bc37-81f6cd1463b8"
      },
      "execution_count": null,
      "outputs": [
        {
          "output_type": "display_data",
          "data": {
            "text/plain": [
              "<Figure size 720x576 with 1 Axes>"
            ],
            "image/png": "[encoded data removed]"
          },
          "metadata": {
            "needs_background": "light"
          }
        }
      ]
    },
    {
      "cell_type": "code",
      "source": [
        "#higher learning rate is used as the number of testing samples are small.\n",
        "lr1 = 0.5\n",
        "n_iter = 400\n",
        "weights,cost_history,weights_history = gradient_descent(X_test,y_test,weights,lr1,n_iter)\n",
        "\n",
        "fig,ax = plt.subplots(figsize=(10,8))\n",
        "plt.xlabel('Epochs')\n",
        "plt.ylabel('MSE')\n",
        "\n",
        "#taking plot for 400 iterations\n",
        "_=ax.plot(range(400),cost_history[:400])"
      ],
      "metadata": {
        "colab": {
          "base_uri": "https://localhost:8080/",
          "height": 497
        },
        "id": "u0wUphJnGnbP",
        "outputId": "543e9b77-42f4-44a4-8ecc-d0e406eafa6c"
      },
      "execution_count": null,
      "outputs": [
        {
          "output_type": "display_data",
          "data": {
            "text/plain": [
              "<Figure size 720x576 with 1 Axes>"
            ],
            "image/png": "[encoded data removed]"
          },
          "metadata": {
            "needs_background": "light"
          }
        }
      ]
    },
    {
      "cell_type": "code",
      "source": [
        "#Stochastic Gradient descent\n",
        "\n",
        "# we pick a random sample and adjust weights\n",
        "\n",
        "def Stochastic_gradient_descent(X,y,epochs,learning_rate=0.5):\n",
        "  no_of_observations = X.shape[0]\n",
        "  no_of_features = X.shape[1]\n",
        "  weights = np.ones(shape=(no_of_features))\n",
        "  print(weights.shape)\n",
        "  bias = 0\n",
        "  cost_history_sgd = []\n",
        "  epoch_history_sgd = []\n",
        "\n",
        "  for i in range(epochs):\n",
        "    ind = np.random.randint(0, no_of_observations - 1)\n",
        "    X_trial = X[ind]\n",
        "    y_trial = y[ind]\n",
        "\n",
        "    y_pred = np.dot(weights, X_trial.T) + bias\n",
        "    loss = np.square(y_trial - y_pred) \n",
        "\n",
        "    \n",
        "    w_grad = -(2/no_of_observations)*(X_trial.T.dot(y_trial-y_pred))\n",
        "    b_grad = -(2/no_of_observations)*(y_trial-y_pred)\n",
        "\n",
        "    if(i%50 == 0):\n",
        "      cost_history_sgd.append(loss)\n",
        "      epoch_history_sgd.append(i)   \n",
        "\n",
        "    weights = weights - learning_rate * w_grad\n",
        "    bias = bias - learning_rate * b_grad\n",
        "        \n",
        "  return weights, bias, loss, cost_history_sgd, epoch_history_sgd"
      ],
      "metadata": {
        "id": "jydBIKDHJojD"
      },
      "execution_count": null,
      "outputs": []
    },
    {
      "cell_type": "code",
      "source": [
        "#preprocessig the train and test columns using Min Max Scaler\n",
        "X1 = trans.fit_transform(df[['Reactions','Balance','Strength']])\n",
        "y1 = trans.fit_transform(df['Value_in_M'].values.reshape(df.shape[0],1))\n",
        "\n",
        "X1_train,X1_test, y1_train, y1_test = train_test_split(X1,y1,test_size=0.2,random_state=20)"
      ],
      "metadata": {
        "id": "_e0hcXOxazcq"
      },
      "execution_count": null,
      "outputs": []
    },
    {
      "cell_type": "code",
      "source": [
        "#MSE vs epochs in train dataset\n",
        "weights_sgd, bias_sgd, loss_sgd, cost_list_sgd, epoch_list_sgd = Stochastic_gradient_descent(X1_train,y1_train.reshape(y1_train.shape[0],),10000)\n",
        "plt.xlabel(\"epochs\")\n",
        "plt.ylabel(\"MSE\")\n",
        "plt.plot(epoch_list_sgd,cost_list_sgd)"
      ],
      "metadata": {
        "colab": {
          "base_uri": "https://localhost:8080/",
          "height": 316
        },
        "id": "bkf6B-dRdXa4",
        "outputId": "1612816f-26bd-4204-fed9-7a292c252917"
      },
      "execution_count": null,
      "outputs": [
        {
          "output_type": "stream",
          "name": "stdout",
          "text": [
            "(3,)\n"
          ]
        },
        {
          "output_type": "execute_result",
          "data": {
            "text/plain": [
              "[<matplotlib.lines.Line2D at 0x7f3768d7e6d0>]"
            ]
          },
          "metadata": {},
          "execution_count": 269
        },
        {
          "output_type": "display_data",
          "data": {
            "text/plain": [
              "<Figure size 432x288 with 1 Axes>"
            ],
            "image/png": "[encoded data removed]"
          },
          "metadata": {
            "needs_background": "light"
          }
        }
      ]
    },
    {
      "cell_type": "code",
      "source": [
        "#MSE vs epochs in test dataset\n",
        "\n",
        "w_sgd, b_sgd, cost_sgd, cost_list_sgd, epoch_list_sgd = Stochastic_gradient_descent(X1_test,y1_test.reshape(y1_test.shape[0],),5000)\n",
        "plt.xlabel(\"epochs\")\n",
        "plt.ylabel(\"MSE\")\n",
        "plt.plot(epoch_list_sgd,cost_list_sgd)"
      ],
      "metadata": {
        "colab": {
          "base_uri": "https://localhost:8080/",
          "height": 316
        },
        "id": "T87mW8A7d2LV",
        "outputId": "124f6bc8-5cb1-4ba3-e28c-8e76df7e0b80"
      },
      "execution_count": null,
      "outputs": [
        {
          "output_type": "stream",
          "name": "stdout",
          "text": [
            "(3,)\n"
          ]
        },
        {
          "output_type": "execute_result",
          "data": {
            "text/plain": [
              "[<matplotlib.lines.Line2D at 0x7f3768d542d0>]"
            ]
          },
          "metadata": {},
          "execution_count": 270
        },
        {
          "output_type": "display_data",
          "data": {
            "text/plain": [
              "<Figure size 432x288 with 1 Axes>"
            ],
            "image/png": "[encoded data removed]"
          },
          "metadata": {
            "needs_background": "light"
          }
        }
      ]
    },
    {
      "cell_type": "code",
      "source": [
        "#mini batch Gradient descent with batch size 12\n",
        "def MB_GD(X, y, epochs = 1000, batch_size = 12, learning_rate = 0.01):\n",
        "    \n",
        "    number_of_features = X.shape[1]\n",
        "    weights = np.ones(shape=(number_of_features)) \n",
        "    bias = 0\n",
        "    no_of_observations = X.shape[0] # number of rows in X\n",
        "    \n",
        "    if batch_size > no_of_observations: # In this case mini batch becomes same as batch gradient descent\n",
        "        batch_size = no_of_observations\n",
        "        \n",
        "    cost_list_MBGD = []\n",
        "    epoch_list_MBGD = []\n",
        "    \n",
        "    num_batches = int(no_of_observations/batch_size)\n",
        "    \n",
        "    for i in range(epochs):    \n",
        "        random_indices = np.random.permutation(no_of_observations)\n",
        "        X2 = X[random_indices]\n",
        "        y2 = y[random_indices]\n",
        "        \n",
        "        for l in range(0,no_of_observations,batch_size):\n",
        "            X_trial = X2[l:l+batch_size]\n",
        "            y_trial = y2[l:l+batch_size]\n",
        "            y_pred = np.dot(weights, X_trial.T) + bias\n",
        "            \n",
        "            w_grad = -(2/len(X_trial))*(X_trial.T.dot(y_trial-y_pred))\n",
        "            b_grad = -(2/len(X_trial))*np.sum(y_trial-y_pred)\n",
        "            \n",
        "            weights = weights - learning_rate * w_grad\n",
        "            bias = bias - learning_rate * b_grad\n",
        "                \n",
        "            cost = np.mean(np.square(y_trial-y_pred)) # MSE (Mean Squared Error)\n",
        "        \n",
        "        if i%10==0:\n",
        "            cost_list_MBGD.append(cost)\n",
        "            epoch_list_MBGD.append(i)\n",
        "        \n",
        "    return weights, bias, cost, cost_list_MBGD, epoch_list_MBGD\n",
        "\n",
        "\n",
        "\n",
        "w_mbgd, b_mbgd, loss, loss_MGD_list, epochs_MGD_list = MB_GD(X1_train,y1_train.reshape(y1_train.shape[0],),300)\n",
        "plt.xlabel(\"epochs\")\n",
        "plt.ylabel(\"MSE_train_data\")\n",
        "plt.plot(epochs_MGD_list,loss_MGD_list)"
      ],
      "metadata": {
        "colab": {
          "base_uri": "https://localhost:8080/",
          "height": 297
        },
        "id": "wKo3wTVLtdyp",
        "outputId": "f454b3da-42e4-4ef3-b800-369aa47bc740"
      },
      "execution_count": null,
      "outputs": [
        {
          "output_type": "execute_result",
          "data": {
            "text/plain": [
              "[<matplotlib.lines.Line2D at 0x7f3768cb7fd0>]"
            ]
          },
          "metadata": {},
          "execution_count": 271
        },
        {
          "output_type": "display_data",
          "data": {
            "text/plain": [
              "<Figure size 432x288 with 1 Axes>"
            ],
            "image/png": "[encoded data removed]"
          },
          "metadata": {
            "needs_background": "light"
          }
        }
      ]
    },
    {
      "cell_type": "code",
      "source": [
        "w_mgd, b_mgd, loss, loss_MGD_list, epochs_MGD_list = MB_GD(X1_test,y1_test.reshape(y1_test.shape[0],),300)\n",
        "plt.xlabel(\"epochs\")\n",
        "plt.ylabel(\"MSE_test_data\")\n",
        "plt.plot(epochs_MGD_list,loss_MGD_list)"
      ],
      "metadata": {
        "colab": {
          "base_uri": "https://localhost:8080/",
          "height": 297
        },
        "id": "0xAGJ0Scvb79",
        "outputId": "ce46d05c-966b-4b72-b14f-d4d5be104534"
      },
      "execution_count": null,
      "outputs": [
        {
          "output_type": "execute_result",
          "data": {
            "text/plain": [
              "[<matplotlib.lines.Line2D at 0x7f3768c32110>]"
            ]
          },
          "metadata": {},
          "execution_count": 272
        },
        {
          "output_type": "display_data",
          "data": {
            "text/plain": [
              "<Figure size 432x288 with 1 Axes>"
            ],
            "image/png": "[encoded data removed]"
          },
          "metadata": {
            "needs_background": "light"
          }
        }
      ]
    },
    {
      "cell_type": "markdown",
      "source": [
        "##2\n",
        "\n",
        "What are the hyper parameters of ADAM Gradient descent and what are their impact on performance of the ADAM Gradient Descent?\n",
        "\n",
        "\n",
        "##Answer\n",
        "Hyper parameters: \n",
        "\n",
        " Alpha - Step Size or learning rate\n",
        "\n",
        " Beta1 and Beta2 - Exponential Decay rates(e.g., 0.9 and 0.999) \n",
        "\n",
        "Epsilon - A small positive value taken. \n",
        " \n",
        "\n",
        "\n",
        "- **Alpha - Learning rate** is optimised or it changes for every epoch as soon as new weights are calculated. This is the difference between Gradient descent algortihm and Adam optimiser algorithm. \n",
        "\n",
        "- **Beta 1 and Beta 2** are used as parameters in optimising the momentum and velocity of the gradient descent.  They are used to update biased first moment and second moment estimates. These are helpful in adjust the learning rate in which more preference is given to the recent learned weights and gradually less preference to the older weights.\n",
        "\n",
        "- Epsilon is used inorder to keep the reminder of the learning rate optimisation formula to be positive.\n",
        "\n",
        "\n",
        "\n",
        "\n"
      ],
      "metadata": {
        "id": "zsILucK2FyhJ"
      }
    },
    {
      "cell_type": "markdown",
      "source": [
        "##3\n",
        "\n",
        "RMSProp is Prof Geoffrey Hinton’s favorite Gradient Descent approach. Why? Name two reasons.\n",
        "\n",
        "##Answer\n",
        "\n",
        "RMSProp is Prof Geoffrey Hinton’s favorite Gradient Descent approach because \n",
        "In RMSProp, \n",
        "\n",
        "- It takes the advantages of mini batch learning which is really helpful for larger datasets and also Rprop which uses gradient in order to adjust the learning rate.\n",
        "\n",
        "- Adaptive learning rates which use square of the weight averages. This is helpful in making the learing rate work much better. You perform exponential averaging of gradients and keep vertical learning rate low and horizonrtal learning rate much faster.\n",
        "\n",
        "- In Rprop, we use gradient and also divide the size of the gradient in irder to get the same magnitude without taking into consideration the magnitude of that particular gradient. But in mini-batches, we get different gradient every time, so with RMP Prop we calculate moving average for each batch and also maintain a similar value in denominator no matter how big or small the gradient size is. \n",
        "\n"
      ],
      "metadata": {
        "id": "IeZ0WbGhiadE"
      }
    },
    {
      "cell_type": "code",
      "source": [],
      "metadata": {
        "id": "cd1sXbLjjJUL"
      },
      "execution_count": null,
      "outputs": []
    }
  ]
}